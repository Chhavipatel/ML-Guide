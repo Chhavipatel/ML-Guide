{
  "nbformat": 4,
  "nbformat_minor": 0,
  "metadata": {
    "colab": {
      "provenance": [],
      "collapsed_sections": []
    },
    "kernelspec": {
      "name": "python3",
      "display_name": "Python 3"
    },
    "language_info": {
      "name": "python"
    }
  },
  "cells": [
    {
      "cell_type": "markdown",
      "source": [
        " **PYTHON** **FUNCTIONS** "
      ],
      "metadata": {
        "id": "hx8IU0pmFHWk"
      }
    },
    {
      "cell_type": "markdown",
      "source": [
        "A function could be a piece of code which as it were runs when it is called. You can pass information, known as parameters, into a function. A function can return information as a result.\n",
        "We use functions whenever we need to perform the same task multiple times without writing the same code again. It can take arguments and returns the value."
      ],
      "metadata": {
        "id": "T-ug1wsrFXop"
      }
    },
    {
      "cell_type": "markdown",
      "source": [
        "**Types of Functions**\n",
        "\n",
        "Python support two types of functions\n",
        "\n",
        "Built-in function\n",
        "\n",
        "User-defined function"
      ],
      "metadata": {
        "id": "CTU75XwoHdKC"
      }
    },
    {
      "cell_type": "markdown",
      "source": [
        "Built-in function\n",
        "\n",
        "The functions which are come along with Python itself are called a built-in function or predefined function.\n",
        "\n",
        "Examples:\n",
        "\n",
        "abs()-Return the absolute value of a number. The argument may be an integer, a floating point number, or an object implementing __abs__().\n",
        "\n",
        "aiter()-It returns an asynchronous iterator for an asynchronous iterable. where iter is an asynchronous iterable\n",
        "\n",
        "all()-Return True if all elements of the iterable are true (or if the iterable is empty\n",
        "\n",
        "any()-Return True if any element of the iterable is true. If the iterable is empty, return False\n",
        "\n",
        "tuple()-Rather than being a function, tuple is actually an immutable sequence type, as documented in Tuples\n",
        "\n",
        "dict()-Create a new dictionary. The dict object is the dictionary class.\n",
        "\n",
        "range()-function generates the immutable sequence of numbers starting from the given start integer to the stop integer.\n",
        "\n",
        "etc.\n",
        "\n"
      ],
      "metadata": {
        "id": "wOAwpCvXHq2L"
      }
    },
    {
      "cell_type": "code",
      "source": [
        "integer = -20\n",
        "print('Absolute value of -20 is:', abs(integer))\n",
        " \n",
        "floating = -30.33\n",
        "print('Absolute value of -30.33 is:', abs(floating))\n",
        "# Output\n",
        "\n",
        "#Absolute value of -20 is: 20 Absolute value of -30.33 is: 30.33"
      ],
      "metadata": {
        "id": "wF9YfK-8KjkG"
      },
      "execution_count": null,
      "outputs": []
    },
    {
      "cell_type": "code",
      "source": [
        "for i in range(1, 10):\n",
        "    print(i, end=' ')\n",
        "# Output 1 2 3 4 5 6 7 8 9"
      ],
      "metadata": {
        "id": "1gl2Hah_JOhI"
      },
      "execution_count": null,
      "outputs": []
    },
    {
      "cell_type": "markdown",
      "source": [
        "**User-defined function**\n",
        "\n",
        "Functions which are created by programmer explicitly according to the requirement are called a user-defined function."
      ],
      "metadata": {
        "id": "YW8S3Mj-JeZo"
      }
    },
    {
      "cell_type": "markdown",
      "source": [
        "**CREATING A FUNCTION**\n",
        "\n",
        "In python function is created using the keyword def.\n",
        "\n",
        "EXample\n"
      ],
      "metadata": {
        "id": "IlQNcgP7GHtB"
      }
    },
    {
      "cell_type": "code",
      "source": [
        "def my_function():\n",
        "  print(\"Hello\")"
      ],
      "metadata": {
        "id": "5BB1ovTuGT0i"
      },
      "execution_count": null,
      "outputs": []
    },
    {
      "cell_type": "markdown",
      "source": [
        "**CALLING A FUNCTION**\n",
        "\n",
        "To call a function, use the function name followed by parenthesis:"
      ],
      "metadata": {
        "id": "24jfyG14Gb3a"
      }
    },
    {
      "cell_type": "code",
      "source": [
        "def my_function():\n",
        "  print(\"Hello \")\n",
        "\n",
        "my_function()"
      ],
      "metadata": {
        "id": "RhAQ6a93Gz7Y"
      },
      "execution_count": null,
      "outputs": []
    },
    {
      "cell_type": "markdown",
      "source": [
        "**Return Value From a Function**\n",
        "\n",
        "In Python, to return value from the function, a return statement is used. It returns the value of the expression following the returns keyword.\n"
      ],
      "metadata": {
        "id": "yVjNwwnmJ7su"
      }
    },
    {
      "cell_type": "code",
      "source": [
        "def is_even(list1):\n",
        "    even_num = []\n",
        "    for n in list1:\n",
        "        if n % 2 == 0:\n",
        "            even_num.append(n)\n",
        "    # return a list\n",
        "    return even_num\n",
        "\n",
        "# Pass list to the function\n",
        "even_num = is_even([2, 3, 42, 51, 62, 70, 5, 9])\n",
        "print(\"Even numbers are:\", even_num)"
      ],
      "metadata": {
        "id": "kHNU3hkBKFvc"
      },
      "execution_count": null,
      "outputs": []
    }
  ]
}